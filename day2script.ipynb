{
 "cells": [
  {
   "cell_type": "markdown",
   "metadata": {},
   "source": [
    "## Advent Code - Day 2"
   ]
  },
  {
   "cell_type": "markdown",
   "metadata": {},
   "source": [
    "### Task 1"
   ]
  },
  {
   "cell_type": "code",
   "execution_count": 22,
   "metadata": {},
   "outputs": [],
   "source": [
    "data = open('day2input.txt', 'r').read()\n",
    "\n",
    "data_split = data.splitlines()\n",
    "\n",
    "games = [round.split(' ') for round in data_split]"
   ]
  },
  {
   "cell_type": "code",
   "execution_count": 17,
   "metadata": {},
   "outputs": [],
   "source": [
    "absolute_score_mapper = {\n",
    "    'A':1,\n",
    "    'B':2,\n",
    "    'C':3\n",
    "}\n",
    "\n",
    "choice_mapper = {\n",
    "    'X':'A',\n",
    "    'Y':'B',\n",
    "    'Z':'C'\n",
    "}\n",
    "\n",
    "win_combinations = [\n",
    "    ['A','Y'], #Paper beats rock\n",
    "    ['B','Z'], #Scissors beats paper\n",
    "    ['C','X'] #Rock beats scissors\n",
    "]"
   ]
  },
  {
   "cell_type": "code",
   "execution_count": 24,
   "metadata": {},
   "outputs": [
    {
     "name": "stdout",
     "output_type": "stream",
     "text": [
      "14375\n"
     ]
    }
   ],
   "source": [
    "total_score = 0\n",
    "\n",
    "for round in games:\n",
    "    \n",
    "    #Extract the two choices\n",
    "    opponent_choice = round[0] \n",
    "    my_choice = choice_mapper[round[1]] #Converting XYZ to ABC\n",
    "\n",
    "    #Adding score for my choice\n",
    "    absolute_score = absolute_score_mapper[my_choice]\n",
    "    total_score += absolute_score\n",
    "\n",
    "    #Adding 3 points if a draw\n",
    "    if my_choice == opponent_choice:\n",
    "        total_score += 3\n",
    "    #Adding 6 if a win\n",
    "    elif round in win_combinations:\n",
    "        total_score += 6\n",
    "\n",
    "print(total_score)"
   ]
  },
  {
   "cell_type": "markdown",
   "metadata": {},
   "source": [
    "### Task 2"
   ]
  },
  {
   "cell_type": "code",
   "execution_count": 11,
   "metadata": {},
   "outputs": [],
   "source": [
    "win_choices = {\n",
    "    'A':'B', #Paper beats rock \n",
    "    'B':'C', #Scissors beats paper\n",
    "    'C':'A' #Paper beats rock\n",
    "}"
   ]
  },
  {
   "cell_type": "code",
   "execution_count": 31,
   "metadata": {},
   "outputs": [
    {
     "name": "stdout",
     "output_type": "stream",
     "text": [
      "10274\n"
     ]
    }
   ],
   "source": [
    "total_score = 0\n",
    "\n",
    "for round in games:\n",
    "\n",
    "    #Extract the two choices\n",
    "    opponent_choice = round[0] \n",
    "    outcome = round[1] #Should we win, lose, or draw\n",
    "\n",
    "    if outcome == 'Z': #If I should win\n",
    "        total_score += 6 #Add 6 for winning\n",
    "        my_choice = win_choices[opponent_choice]\n",
    "    elif outcome == 'Y': #If I should draw\n",
    "        total_score += 3 #Add 3 for drawing\n",
    "        my_choice = opponent_choice\n",
    "    else: #If I should lose\n",
    "        my_choice = win_choices[win_choices[opponent_choice]] #Applying the 'win_choices' dict TWICE gives you the losing choice!\n",
    "\n",
    "    absolute_score = absolute_score_mapper[my_choice]\n",
    "    total_score += absolute_score\n",
    "\n",
    "print(total_score)"
   ]
  }
 ],
 "metadata": {
  "interpreter": {
   "hash": "26de051ba29f2982a8de78e945f0abaf191376122a1563185a90213a26c5da77"
  },
  "kernelspec": {
   "display_name": "Python 3.10.0 64-bit",
   "language": "python",
   "name": "python3"
  },
  "language_info": {
   "codemirror_mode": {
    "name": "ipython",
    "version": 3
   },
   "file_extension": ".py",
   "mimetype": "text/x-python",
   "name": "python",
   "nbconvert_exporter": "python",
   "pygments_lexer": "ipython3",
   "version": "3.10.0"
  },
  "orig_nbformat": 4
 },
 "nbformat": 4,
 "nbformat_minor": 2
}
