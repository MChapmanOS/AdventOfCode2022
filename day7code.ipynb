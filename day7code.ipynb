{
 "cells": [
  {
   "cell_type": "markdown",
   "metadata": {},
   "source": [
    "## Advent of Code - Day 7"
   ]
  },
  {
   "cell_type": "markdown",
   "metadata": {},
   "source": [
    "### Task 1"
   ]
  },
  {
   "cell_type": "code",
   "execution_count": 304,
   "metadata": {},
   "outputs": [],
   "source": [
    "import pandas as pd"
   ]
  },
  {
   "cell_type": "code",
   "execution_count": 305,
   "metadata": {},
   "outputs": [],
   "source": [
    "filenames = []\n",
    "filesizes = []\n",
    "parents = []\n",
    "\n",
    "parent_chain = []\n",
    "\n",
    "data = open('day7input.txt').read().splitlines()\n",
    "for line in data:\n",
    "    part1, part2 = line.rsplit(' ', 1)\n",
    "    if (part1 == '$')|(part1 == 'dir'):\n",
    "        continue\n",
    "    elif part2 == '..':\n",
    "        parent_chain.pop()\n",
    "    elif part1 == '$ cd':\n",
    "        parent_chain.append(part2)\n",
    "    else:  \n",
    "        filenames.append(part2)\n",
    "        filesizes.append(part1)\n",
    "        parents.append(list(parent_chain))"
   ]
  },
  {
   "cell_type": "code",
   "execution_count": 306,
   "metadata": {},
   "outputs": [],
   "source": [
    "files_df = pd.DataFrame(\n",
    "    data={\n",
    "        'filename':filenames,\n",
    "        'filesize':filesizes,\n",
    "        'parents':parents})"
   ]
  },
  {
   "cell_type": "code",
   "execution_count": 307,
   "metadata": {},
   "outputs": [],
   "source": [
    "master_sub_paths = []\n",
    "for x in parents:\n",
    "    subpaths = [x[:y] for y in range(1,len(x)+1)]\n",
    "    for y in subpaths:\n",
    "        if y not in master_sub_paths:\n",
    "            master_sub_paths.append(y)"
   ]
  },
  {
   "cell_type": "code",
   "execution_count": 308,
   "metadata": {},
   "outputs": [],
   "source": [
    "def get_content_size(subpath):\n",
    "    length = len(subpath)\n",
    "    condition = files_df.parents.apply(lambda x: x[:length] == subpath)\n",
    "    total = files_df[condition].filesize.astype('int').sum()\n",
    "    return total"
   ]
  },
  {
   "cell_type": "code",
   "execution_count": 309,
   "metadata": {},
   "outputs": [],
   "source": [
    "total_content_sizes = [get_content_size(x) for x in master_sub_paths]"
   ]
  },
  {
   "cell_type": "code",
   "execution_count": 310,
   "metadata": {},
   "outputs": [
    {
     "data": {
      "text/plain": [
       "2031851"
      ]
     },
     "execution_count": 310,
     "metadata": {},
     "output_type": "execute_result"
    }
   ],
   "source": [
    "output = sum([x for x in total_content_sizes if x <= 100000])\n",
    "output"
   ]
  },
  {
   "cell_type": "markdown",
   "metadata": {},
   "source": [
    "### Task 2"
   ]
  },
  {
   "cell_type": "code",
   "execution_count": 311,
   "metadata": {},
   "outputs": [
    {
     "data": {
      "text/plain": [
       "42558312"
      ]
     },
     "execution_count": 311,
     "metadata": {},
     "output_type": "execute_result"
    }
   ],
   "source": [
    "total_size = total_content_sizes[0]"
   ]
  },
  {
   "cell_type": "code",
   "execution_count": 313,
   "metadata": {},
   "outputs": [],
   "source": [
    "space_needed = 30000000 - (70000000 - total_size)"
   ]
  },
  {
   "cell_type": "code",
   "execution_count": 315,
   "metadata": {},
   "outputs": [
    {
     "data": {
      "text/plain": [
       "2568781"
      ]
     },
     "execution_count": 315,
     "metadata": {},
     "output_type": "execute_result"
    }
   ],
   "source": [
    "min([x for x in total_content_sizes if x >= space_needed])"
   ]
  }
 ],
 "metadata": {
  "interpreter": {
   "hash": "26de051ba29f2982a8de78e945f0abaf191376122a1563185a90213a26c5da77"
  },
  "kernelspec": {
   "display_name": "Python 3.10.0 64-bit",
   "language": "python",
   "name": "python3"
  },
  "language_info": {
   "codemirror_mode": {
    "name": "ipython",
    "version": 3
   },
   "file_extension": ".py",
   "mimetype": "text/x-python",
   "name": "python",
   "nbconvert_exporter": "python",
   "pygments_lexer": "ipython3",
   "version": "3.10.0"
  },
  "orig_nbformat": 4
 },
 "nbformat": 4,
 "nbformat_minor": 2
}
