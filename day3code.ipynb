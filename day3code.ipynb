{
 "cells": [
  {
   "cell_type": "markdown",
   "metadata": {},
   "source": [
    "## Advent of Code - Day 3"
   ]
  },
  {
   "cell_type": "markdown",
   "metadata": {},
   "source": [
    "### Task 1"
   ]
  },
  {
   "cell_type": "code",
   "execution_count": 74,
   "metadata": {},
   "outputs": [],
   "source": [
    "alphabet_lower = 'abcdefghijklmnopqrstuvwxyz'\n",
    "alphabet_upper = alphabet_lower.upper()\n",
    "double_alphabet = list(f'{alphabet_lower}{alphabet_upper}')\n",
    "priorities = dict(zip(double_alphabet, range(1,53)))"
   ]
  },
  {
   "cell_type": "code",
   "execution_count": 130,
   "metadata": {},
   "outputs": [
    {
     "name": "stdout",
     "output_type": "stream",
     "text": [
      "7793\n"
     ]
    }
   ],
   "source": [
    "priority_sum = 0\n",
    "\n",
    "for line in open('day3input.txt', 'r'):\n",
    "\n",
    "    full_inventory = list(line)[:-1]\n",
    "    half_item_count = int(len(full_inventory) / 2)\n",
    "\n",
    "    cmptmt1, cmptmt2 = full_inventory[:half_item_count], full_inventory[half_item_count:]\n",
    "    cmptmt1_unique, cmptmt2_unique = set(cmptmt1), set(cmptmt2)\n",
    "\n",
    "    cmptmt_overlap = cmptmt1_unique & cmptmt2_unique\n",
    "\n",
    "    item = list(cmptmt_overlap)[0]\n",
    "\n",
    "    priority = priorities[item]\n",
    "    priority_sum += priority\n",
    "\n",
    "print(priority_sum)\n"
   ]
  },
  {
   "cell_type": "markdown",
   "metadata": {},
   "source": [
    "### Task 2"
   ]
  },
  {
   "cell_type": "code",
   "execution_count": 135,
   "metadata": {},
   "outputs": [],
   "source": [
    "rucksacks = open('day3input.txt', 'r').read().splitlines()"
   ]
  },
  {
   "cell_type": "code",
   "execution_count": 136,
   "metadata": {},
   "outputs": [],
   "source": [
    "list_of_groups = zip(*(iter(rucksacks),) * 3)"
   ]
  },
  {
   "cell_type": "code",
   "execution_count": 137,
   "metadata": {},
   "outputs": [
    {
     "name": "stdout",
     "output_type": "stream",
     "text": [
      "2499\n"
     ]
    }
   ],
   "source": [
    "priority_sum = 0\n",
    "for rucksack_group in list_of_groups:\n",
    "\n",
    "    bag1, bag2, bag3 = [set(rucksack) for rucksack in rucksack_group]\n",
    "\n",
    "    bags_overlap = bag1 & bag2 & bag3\n",
    "\n",
    "    badge = list(bags_overlap)[0]\n",
    "\n",
    "    priority = priorities[badge]\n",
    "    priority_sum += priority\n",
    "\n",
    "print(priority_sum)"
   ]
  }
 ],
 "metadata": {
  "interpreter": {
   "hash": "26de051ba29f2982a8de78e945f0abaf191376122a1563185a90213a26c5da77"
  },
  "kernelspec": {
   "display_name": "Python 3.10.0 64-bit",
   "language": "python",
   "name": "python3"
  },
  "language_info": {
   "codemirror_mode": {
    "name": "ipython",
    "version": 3
   },
   "file_extension": ".py",
   "mimetype": "text/x-python",
   "name": "python",
   "nbconvert_exporter": "python",
   "pygments_lexer": "ipython3",
   "version": "3.10.0"
  },
  "orig_nbformat": 4
 },
 "nbformat": 4,
 "nbformat_minor": 2
}
