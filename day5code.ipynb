{
 "cells": [
  {
   "cell_type": "code",
   "execution_count": 253,
   "metadata": {},
   "outputs": [],
   "source": [
    "import numpy as np\n",
    "import pandas as pd"
   ]
  },
  {
   "cell_type": "code",
   "execution_count": 254,
   "metadata": {},
   "outputs": [],
   "source": [
    "data = open('day5input.txt').read().splitlines()\n",
    "\n",
    "stacks = data[:8]"
   ]
  },
  {
   "cell_type": "code",
   "execution_count": 255,
   "metadata": {},
   "outputs": [],
   "source": [
    "stacks_inverted = [[row[x] for x in range(len(row)) if x % 4 == 1] for row in stacks]"
   ]
  },
  {
   "cell_type": "code",
   "execution_count": 256,
   "metadata": {},
   "outputs": [],
   "source": [
    "stacks = np.array(stacks_inverted).T.tolist()"
   ]
  },
  {
   "cell_type": "code",
   "execution_count": 257,
   "metadata": {},
   "outputs": [
    {
     "data": {
      "text/plain": [
       "[None, None, None, None, None, None, None, None, None]"
      ]
     },
     "execution_count": 257,
     "metadata": {},
     "output_type": "execute_result"
    }
   ],
   "source": [
    "stacks = [list(filter(lambda x: x != ' ', row)) for row in stacks]\n",
    "[row.reverse() for row in stacks]"
   ]
  },
  {
   "cell_type": "code",
   "execution_count": 258,
   "metadata": {},
   "outputs": [],
   "source": [
    "def move_container(x, y):\n",
    "    container = stacks[x].pop()\n",
    "    stacks[y].append(container)\n",
    "\n",
    "def execute_instruction(reps, from_x, to_y):\n",
    "    for x in range(reps):\n",
    "        move_container(from_x, to_y)\n",
    "    return 'caplunk!'"
   ]
  },
  {
   "cell_type": "code",
   "execution_count": 259,
   "metadata": {},
   "outputs": [],
   "source": [
    "instructions = pd.DataFrame(data[10:])\n",
    "instructions[['reps','from_x','to_y']] = instructions[0].str.split(r'move |from | to ', expand=True).drop(columns=0).astype('int')\n",
    "\n",
    "CAPLUNK = instructions.apply(lambda x: execute_instruction(x['reps'], x['from_x']-1, x['to_y']-1), axis=1)"
   ]
  },
  {
   "cell_type": "code",
   "execution_count": 260,
   "metadata": {},
   "outputs": [],
   "source": [
    "top_containers = [stack[-1] for stack in stacks]\n",
    "output = str(''.join(top_containers))"
   ]
  },
  {
   "cell_type": "code",
   "execution_count": 261,
   "metadata": {},
   "outputs": [
    {
     "data": {
      "text/plain": [
       "'VPCDMSLWJ'"
      ]
     },
     "execution_count": 261,
     "metadata": {},
     "output_type": "execute_result"
    }
   ],
   "source": [
    "output"
   ]
  }
 ],
 "metadata": {
  "interpreter": {
   "hash": "26de051ba29f2982a8de78e945f0abaf191376122a1563185a90213a26c5da77"
  },
  "kernelspec": {
   "display_name": "Python 3.10.0 64-bit",
   "language": "python",
   "name": "python3"
  },
  "language_info": {
   "codemirror_mode": {
    "name": "ipython",
    "version": 3
   },
   "file_extension": ".py",
   "mimetype": "text/x-python",
   "name": "python",
   "nbconvert_exporter": "python",
   "pygments_lexer": "ipython3",
   "version": "3.10.0"
  },
  "orig_nbformat": 4
 },
 "nbformat": 4,
 "nbformat_minor": 2
}
