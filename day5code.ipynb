{
 "cells": [
  {
   "cell_type": "code",
   "execution_count": 21,
   "metadata": {},
   "outputs": [
    {
     "name": "stderr",
     "output_type": "stream",
     "text": [
      "C:\\Users\\MChapman\\AppData\\Local\\Temp\\9\\ipykernel_27020\\3864142735.py:4: ParserWarning: Falling back to the 'python' engine because the 'c' engine does not support regex separators (separators > 1 char and different from '\\s+' are interpreted as regex); you can avoid this warning by specifying engine='python'.\n",
      "  df = pd.read_csv(\"day3input.txt\", sep=\"/n\",names=[\"contents\"])\n"
     ]
    },
    {
     "data": {
      "text/plain": [
       "27"
      ]
     },
     "execution_count": 21,
     "metadata": {},
     "output_type": "execute_result"
    }
   ],
   "source": [
    "import pandas as pd\n",
    "import string\n",
    "\n",
    "df = pd.read_csv(\"day3input.txt\", sep=\"/n\",names=[\"contents\"])\n",
    "\n",
    "def prio(x):\n",
    "    ascii = ord(x)\n",
    "    if ascii in range(ord(\"a\"), ord(\"z\") + 1):\n",
    "        return string.ascii_lowercase.index(x) + 1\n",
    "    elif ascii in range(ord(\"A\"), ord(\"Z\") + 1):\n",
    "        return string.ascii_uppercase.index(x) + 27\n",
    "\n",
    "\n",
    "\n",
    "prio('A')"
   ]
  },
  {
   "cell_type": "code",
   "execution_count": 25,
   "metadata": {},
   "outputs": [
    {
     "data": {
      "text/html": [
       "<div>\n",
       "<style scoped>\n",
       "    .dataframe tbody tr th:only-of-type {\n",
       "        vertical-align: middle;\n",
       "    }\n",
       "\n",
       "    .dataframe tbody tr th {\n",
       "        vertical-align: top;\n",
       "    }\n",
       "\n",
       "    .dataframe thead th {\n",
       "        text-align: right;\n",
       "    }\n",
       "</style>\n",
       "<table border=\"1\" class=\"dataframe\">\n",
       "  <thead>\n",
       "    <tr style=\"text-align: right;\">\n",
       "      <th></th>\n",
       "      <th>contents</th>\n",
       "    </tr>\n",
       "  </thead>\n",
       "  <tbody>\n",
       "    <tr>\n",
       "      <th>0</th>\n",
       "      <td>LLBPGtltrGPBMMsLcLMMVMpVRhhfCDTwRwRdTfwDllRRRDhC</td>\n",
       "    </tr>\n",
       "    <tr>\n",
       "      <th>1</th>\n",
       "      <td>gNFJHJFgtZFJjZJHNNFWZWZwwDjCwSDhfCDbdwjfwDTTDT</td>\n",
       "    </tr>\n",
       "    <tr>\n",
       "      <th>2</th>\n",
       "      <td>gmQNZnZNHWnqmQpLtVLMBsPpBqrL</td>\n",
       "    </tr>\n",
       "    <tr>\n",
       "      <th>3</th>\n",
       "      <td>HlHldQtHlctzppdQtjdczHhJRnnhGNVmVRJmVjCVFCNh</td>\n",
       "    </tr>\n",
       "    <tr>\n",
       "      <th>4</th>\n",
       "      <td>LgWNgggZJZGFhCZr</td>\n",
       "    </tr>\n",
       "    <tr>\n",
       "      <th>...</th>\n",
       "      <td>...</td>\n",
       "    </tr>\n",
       "    <tr>\n",
       "      <th>295</th>\n",
       "      <td>NGhhhhPMGhWsSSchWlNsCLBBlLFQCgqvgCFFgQBg</td>\n",
       "    </tr>\n",
       "    <tr>\n",
       "      <th>296</th>\n",
       "      <td>PdcNWWcdGdPssPPNTSNNtzbTwjntzbbVwtZpCVnb</td>\n",
       "    </tr>\n",
       "    <tr>\n",
       "      <th>297</th>\n",
       "      <td>tGNgtsNQHsJmwwzddmQw</td>\n",
       "    </tr>\n",
       "    <tr>\n",
       "      <th>298</th>\n",
       "      <td>hMhhDBwMhDDfCRRBjFDDTTWjdWmrmdWqjlmmmjJz</td>\n",
       "    </tr>\n",
       "    <tr>\n",
       "      <th>299</th>\n",
       "      <td>RSpSSBhppDhRncRLswZLGvtGvNcNtL</td>\n",
       "    </tr>\n",
       "  </tbody>\n",
       "</table>\n",
       "<p>300 rows × 1 columns</p>\n",
       "</div>"
      ],
      "text/plain": [
       "                                             contents\n",
       "0    LLBPGtltrGPBMMsLcLMMVMpVRhhfCDTwRwRdTfwDllRRRDhC\n",
       "1      gNFJHJFgtZFJjZJHNNFWZWZwwDjCwSDhfCDbdwjfwDTTDT\n",
       "2                        gmQNZnZNHWnqmQpLtVLMBsPpBqrL\n",
       "3        HlHldQtHlctzppdQtjdczHhJRnnhGNVmVRJmVjCVFCNh\n",
       "4                                    LgWNgggZJZGFhCZr\n",
       "..                                                ...\n",
       "295          NGhhhhPMGhWsSSchWlNsCLBBlLFQCgqvgCFFgQBg\n",
       "296          PdcNWWcdGdPssPPNTSNNtzbTwjntzbbVwtZpCVnb\n",
       "297                              tGNgtsNQHsJmwwzddmQw\n",
       "298          hMhhDBwMhDDfCRRBjFDDTTWjdWmrmdWqjlmmmjJz\n",
       "299                    RSpSSBhppDhRncRLswZLGvtGvNcNtL\n",
       "\n",
       "[300 rows x 1 columns]"
      ]
     },
     "execution_count": 25,
     "metadata": {},
     "output_type": "execute_result"
    }
   ],
   "source": [
    "df"
   ]
  },
  {
   "cell_type": "code",
   "execution_count": 26,
   "metadata": {},
   "outputs": [
    {
     "data": {
      "text/plain": [
       "0      [38, 38, 28, 42, 33, 20, 12, 20, 18, 33, 42, 2...\n",
       "1      [7, 40, 32, 36, 34, 36, 32, 7, 20, 52, 32, 36,...\n",
       "2      [7, 13, 43, 40, 52, 14, 52, 40, 34, 49, 14, 17...\n",
       "3      [34, 12, 34, 12, 4, 43, 20, 34, 12, 3, 20, 26,...\n",
       "4      [38, 7, 49, 40, 7, 7, 7, 52, 36, 52, 33, 32, 8...\n",
       "                             ...                        \n",
       "295    [40, 33, 8, 8, 8, 8, 42, 39, 33, 8, 49, 19, 45...\n",
       "296    [42, 4, 3, 40, 49, 49, 3, 4, 33, 4, 42, 19, 19...\n",
       "297    [20, 33, 40, 7, 20, 19, 40, 43, 34, 19, 36, 13...\n",
       "298    [8, 39, 8, 8, 30, 28, 23, 39, 8, 30, 30, 6, 29...\n",
       "299    [44, 45, 16, 45, 45, 28, 8, 16, 16, 30, 8, 44,...\n",
       "Name: contents, Length: 300, dtype: object"
      ]
     },
     "execution_count": 26,
     "metadata": {},
     "output_type": "execute_result"
    }
   ],
   "source": [
    "df.contents.apply(lambda x: [prio(y) for y in list(x)])"
   ]
  }
 ],
 "metadata": {
  "interpreter": {
   "hash": "26de051ba29f2982a8de78e945f0abaf191376122a1563185a90213a26c5da77"
  },
  "kernelspec": {
   "display_name": "Python 3.10.0 64-bit",
   "language": "python",
   "name": "python3"
  },
  "language_info": {
   "codemirror_mode": {
    "name": "ipython",
    "version": 3
   },
   "file_extension": ".py",
   "mimetype": "text/x-python",
   "name": "python",
   "nbconvert_exporter": "python",
   "pygments_lexer": "ipython3",
   "version": "3.10.0"
  },
  "orig_nbformat": 4
 },
 "nbformat": 4,
 "nbformat_minor": 2
}
